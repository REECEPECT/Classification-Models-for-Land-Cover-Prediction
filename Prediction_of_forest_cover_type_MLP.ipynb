{
 "cells": [
  {
   "cell_type": "code",
   "execution_count": 3,
   "id": "61dfa40d",
   "metadata": {},
   "outputs": [],
   "source": [
    "import matplotlib.pyplot as plt #for visualization\n",
    "import numpy as np #for scientific calculation\n",
    "import pandas as pd #for data analysis\n",
    "import warnings\n",
    "import scipy.io\n",
    "import collections\n",
    "import seaborn as sns #for visualization\n",
    "from IPython.core.pylabtools import figsize\n",
    "from sklearn.preprocessing import StandardScaler\n",
    "from sklearn.model_selection import train_test_split\n",
    "from sklearn.naive_bayes import GaussianNB\n",
    "from sklearn import svm\n",
    "from sklearn import metrics\n",
    "from sklearn.neural_network import MLPClassifier\n",
    "from sklearn.model_selection import GridSearchCV\n",
    "from sklearn.metrics import classification_report, confusion_matrix\n",
    "warnings.filterwarnings('ignore')\n",
    "pd.options.mode.chained_assignment = None\n",
    "sns.set_context(font_scale=2)\n",
    "#sk learn, ML library for python"
   ]
  },
  {
   "cell_type": "code",
   "execution_count": 4,
   "id": "81ff450a",
   "metadata": {},
   "outputs": [
    {
     "name": "stdout",
     "output_type": "stream",
     "text": [
      "Number of Rows in the set is:  (15120, 56)\n"
     ]
    }
   ],
   "source": [
    "dataSet = pd.read_csv(\"train.csv\")\n",
    "print(\"Number of Rows in the set is: \",dataSet.shape)"
   ]
  },
  {
   "cell_type": "code",
   "execution_count": 5,
   "id": "8cfa0171",
   "metadata": {},
   "outputs": [],
   "source": [
    "inputs = dataSet.drop(['Cover_Type','Id'], axis=1)\n",
    "target = dataSet.Cover_Type"
   ]
  },
  {
   "cell_type": "code",
   "execution_count": 10,
   "id": "e70f9e32",
   "metadata": {},
   "outputs": [],
   "source": [
    "X_train, X_valid, y_train, y_valid = train_test_split(inputs, target, test_size=0.1, random_state=1)"
   ]
  },
  {
   "cell_type": "code",
   "execution_count": null,
   "id": "52fa952d",
   "metadata": {},
   "outputs": [],
   "source": [
    "#Tuning parameters\n",
    "myModel = GridSearchCV(MLPClassifier(),{\n",
    "    'hidden_layer_sizes':[(300,250,200,50),(50,100,150,200),(100,400,350,256),(50,70,10,20),(120, 200, 150, 300)],\n",
    "    'hidden_layer_sizes':['identity','logistic','tahn','relu'],\n",
    "    'solver':['lbfgs','sdg', 'adam'],\n",
    "    'learning_rate': ['constant','invscaling','adaptive'],\n",
    "    'alpha':[0.0001, 0.001, 0.05, 0.1, 1],\n",
    "    'learning_rate':['constant', 'invscaling', 'adaptive'],\n",
    "    'learning_rate_init':[0.001, 0.01, 0.1, 1, 5],\n",
    "    'power_t':[0.5, 0.3, 0.1, 1, 5],\n",
    "    'max_iter':[100,200,400,500,800],\n",
    "    'tol': [1e-4, 1e-1, 0.1, 1, 5],\n",
    "    'momentum' : [0.9,0.5,0.2,0.1,1],\n",
    "    'validation_fraction' : [0.1, 0.01, 0.5, 0.9, 1],\n",
    "    'beta_1' : [0.9,0.5,0.2,0.5,1],\n",
    "    'beta_2' : [0.9,0.5,0.2,0.5,1],\n",
    "    'epsilon' : [1e-8, 1e-5, 0.1, 1, 5],\n",
    "    'n_iter_no_change': [10, 20, 30, 5, 50],\n",
    "    'max_fun': [15000, 100, 1000, 10000, 20000],\n",
    "}, cv=5, return_train_score=False)\n",
    "myModel.fit(X_train, y_train)\n",
    "print('Score: ', gridSearch.best_score)\n",
    "print('Parameters: ',gridSearch.best_params_ )\n",
    "df = pd.DataFrame(myModel.cv_results_)"
   ]
  },
  {
   "cell_type": "code",
   "execution_count": null,
   "id": "7f5c9c51",
   "metadata": {},
   "outputs": [],
   "source": [
    "display(df)"
   ]
  },
  {
   "cell_type": "code",
   "execution_count": 15,
   "id": "f7dbb00d",
   "metadata": {
    "scrolled": false
   },
   "outputs": [
    {
     "name": "stdout",
     "output_type": "stream",
     "text": [
      "              precision    recall  f1-score   support\n",
      "\n",
      "           1       0.70      0.74      0.72       221\n",
      "           2       0.69      0.68      0.68       215\n",
      "           3       0.81      0.85      0.83       195\n",
      "           4       0.96      0.93      0.94       231\n",
      "           5       0.92      0.86      0.89       222\n",
      "           6       0.86      0.80      0.83       229\n",
      "           7       0.87      0.94      0.90       199\n",
      "\n",
      "    accuracy                           0.83      1512\n",
      "   macro avg       0.83      0.83      0.83      1512\n",
      "weighted avg       0.83      0.83      0.83      1512\n",
      "\n"
     ]
    }
   ],
   "source": [
    "mlp = MLPClassifier(hidden_layer_sizes =(200, 256, 256, 300, 350, 200) ,max_iter=500,activation='relu', random_state=0)\n",
    "mlp.fit(X_train,y_train)\n",
    "y_predict_mlp = mlp.predict(X_valid)\n",
    "print(classification_report(y_predict_mlp,y_valid))"
   ]
  },
  {
   "cell_type": "code",
   "execution_count": 13,
   "id": "782da2bf",
   "metadata": {},
   "outputs": [
    {
     "data": {
      "image/png": "[encoded data removed]",
      "text/plain": [
       "<Figure size 432x288 with 2 Axes>"
      ]
     },
     "metadata": {
      "needs_background": "light"
     },
     "output_type": "display_data"
    }
   ],
   "source": [
    "confusion_matrix = metrics.confusion_matrix(y_predict_mlp, y_valid)\n",
    "cm_display = metrics.ConfusionMatrixDisplay(confusion_matrix = confusion_matrix, display_labels = mlp.classes_)\n",
    "cm_display.plot()\n",
    "plt.show()"
   ]
  },
  {
   "cell_type": "code",
   "execution_count": null,
   "id": "5d62458d",
   "metadata": {},
   "outputs": [],
   "source": [
    "TestSet = pd.read_csv(\"test.csv\")\n",
    "print(\"Number of Rows in the set is: \",TestSet.shape)"
   ]
  },
  {
   "cell_type": "code",
   "execution_count": null,
   "id": "032a259c",
   "metadata": {},
   "outputs": [],
   "source": [
    "reDefinedTestSet = TestSet.drop(['Id'], axis=1)\n",
    "reDefinedTestSet.head()"
   ]
  },
  {
   "cell_type": "code",
   "execution_count": null,
   "id": "c398fe7a",
   "metadata": {},
   "outputs": [],
   "source": [
    "MLPPrediction = mlp.predict(reDefinedTestSet)"
   ]
  },
  {
   "cell_type": "code",
   "execution_count": null,
   "id": "f8bf448f",
   "metadata": {},
   "outputs": [],
   "source": [
    "trees = collections.Counter(MLPPrediction)\n",
    "var = pd.DataFrame(trees.items())\n",
    "var.columns = ['Cover_Type','Count']\n",
    "var = var.sort_values(by='Cover_Type')\n",
    "results = var.set_index('Cover_Type')\n",
    "display(results[0:7])\n",
    "var.plot(kind = 'bar', x = 'Cover_Type', y = 'Count', color=\"purple\")\n",
    "plt.show()"
   ]
  },
  {
   "cell_type": "code",
   "execution_count": null,
   "id": "c9b9dd9f",
   "metadata": {},
   "outputs": [],
   "source": []
  }
 ],
 "metadata": {
  "kernelspec": {
   "display_name": "Python 3 (ipykernel)",
   "language": "python",
   "name": "python3"
  },
  "language_info": {
   "codemirror_mode": {
    "name": "ipython",
    "version": 3
   },
   "file_extension": ".py",
   "mimetype": "text/x-python",
   "name": "python",
   "nbconvert_exporter": "python",
   "pygments_lexer": "ipython3",
   "version": "3.9.12"
  }
 },
 "nbformat": 4,
 "nbformat_minor": 5
}
